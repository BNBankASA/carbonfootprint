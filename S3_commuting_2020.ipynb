{
 "cells": [
  {
   "cell_type": "code",
   "execution_count": 4,
   "metadata": {},
   "outputs": [],
   "source": [
    "import pandas as pd\n",
    "import numpy as np"
   ]
  },
  {
   "cell_type": "markdown",
   "metadata": {},
   "source": [
    "# Computations of emissions from Commmuting (to and from work)\n",
    "* Calculations based on results from an internal commuting survey \n",
    "* Responses 112 of 127 \n",
    "* Survey frm May 2020 (asked what the respondents usually does (not during Covid-19 lockdown)\n",
    "* About 16 employees in Oslo, and 111 in Trondheim. Figures calculates as if all employees are working in Trondheim"
   ]
  },
  {
   "cell_type": "code",
   "execution_count": 5,
   "metadata": {},
   "outputs": [],
   "source": [
    "survey = ['Walk/run','Public Transport','Bike','Car (EL)','Car (Fuel)']\n",
    "survey = pd.DataFrame(survey, columns = ['Means of transportation'])\n"
   ]
  },
  {
   "cell_type": "code",
   "execution_count": 6,
   "metadata": {},
   "outputs": [],
   "source": [
    "# Manually input data\n",
    "survey['Percent'] = [11.6,58.9,18.8,6.3,4.5]\n",
    "survey['Respondents'] = [112*0.116,112*0.589,112*0.188,112*0.063,112*0.045]\n",
    "survey['Respondents'] = survey['Respondents'].round(decimals=0)"
   ]
  },
  {
   "cell_type": "markdown",
   "metadata": {},
   "source": [
    "#### Scale figures to map all emplopyees"
   ]
  },
  {
   "cell_type": "code",
   "execution_count": 8,
   "metadata": {},
   "outputs": [
    {
     "data": {
      "text/html": [
       "<div>\n",
       "<style scoped>\n",
       "    .dataframe tbody tr th:only-of-type {\n",
       "        vertical-align: middle;\n",
       "    }\n",
       "\n",
       "    .dataframe tbody tr th {\n",
       "        vertical-align: top;\n",
       "    }\n",
       "\n",
       "    .dataframe thead th {\n",
       "        text-align: right;\n",
       "    }\n",
       "</style>\n",
       "<table border=\"1\" class=\"dataframe\">\n",
       "  <thead>\n",
       "    <tr style=\"text-align: right;\">\n",
       "      <th></th>\n",
       "      <th>Means of transportation</th>\n",
       "      <th>Percent</th>\n",
       "      <th>Respondents</th>\n",
       "      <th>Number</th>\n",
       "    </tr>\n",
       "  </thead>\n",
       "  <tbody>\n",
       "    <tr>\n",
       "      <th>0</th>\n",
       "      <td>Walk/run</td>\n",
       "      <td>11.6</td>\n",
       "      <td>13.0</td>\n",
       "      <td>15.0</td>\n",
       "    </tr>\n",
       "    <tr>\n",
       "      <th>1</th>\n",
       "      <td>Public Transport</td>\n",
       "      <td>58.9</td>\n",
       "      <td>66.0</td>\n",
       "      <td>77.0</td>\n",
       "    </tr>\n",
       "    <tr>\n",
       "      <th>2</th>\n",
       "      <td>Bike</td>\n",
       "      <td>18.8</td>\n",
       "      <td>21.0</td>\n",
       "      <td>25.0</td>\n",
       "    </tr>\n",
       "    <tr>\n",
       "      <th>3</th>\n",
       "      <td>Car (EL)</td>\n",
       "      <td>6.3</td>\n",
       "      <td>7.0</td>\n",
       "      <td>8.0</td>\n",
       "    </tr>\n",
       "    <tr>\n",
       "      <th>4</th>\n",
       "      <td>Car (Fuel)</td>\n",
       "      <td>4.5</td>\n",
       "      <td>5.0</td>\n",
       "      <td>6.0</td>\n",
       "    </tr>\n",
       "  </tbody>\n",
       "</table>\n",
       "</div>"
      ],
      "text/plain": [
       "  Means of transportation  Percent  Respondents  Number\n",
       "0                Walk/run     11.6         13.0    15.0\n",
       "1        Public Transport     58.9         66.0    77.0\n",
       "2                    Bike     18.8         21.0    25.0\n",
       "3                Car (EL)      6.3          7.0     8.0\n",
       "4              Car (Fuel)      4.5          5.0     6.0"
      ]
     },
     "execution_count": 8,
     "metadata": {},
     "output_type": "execute_result"
    }
   ],
   "source": [
    "Employees = 131 # by end of 2020 \n",
    "survey['Number'] = [survey.Percent[0]*Employees/100, \n",
    "                                survey.Percent[1]*Employees/100,\n",
    "                                survey.Percent[2]*Employees/100,\n",
    "                                survey.Percent[3]*Employees/100,\n",
    "                                survey.Percent[4]*Employees/100]\n",
    "survey['Number'] = survey['Number'].round(decimals=0)\n",
    "survey"
   ]
  },
  {
   "cell_type": "markdown",
   "metadata": {},
   "source": [
    "# Emission from buss transport\n",
    "\n",
    "### Average travel distances for all commuting in Norway split by mean of transportatioin and for different cities \n",
    "Source: https://www.vegvesen.no/_attachment/2674990/binary/1361215?fast_title=N%C3%B8kkelrapport+Reisevaneunders%C3%B8kelsen+2018+-+november+2019.PDF (side 17)"
   ]
  },
  {
   "cell_type": "code",
   "execution_count": 9,
   "metadata": {},
   "outputs": [],
   "source": [
    "distance_mean = 16.23"
   ]
  },
  {
   "cell_type": "markdown",
   "metadata": {},
   "source": [
    "### Emission / kilometer from AtB (local buss company) \n",
    "Source: https://www.atb.no/getfile.php/1383892-1593157917/Rapporter/AtB_a%CC%8Arsrapport_2019.pdf (page 43)"
   ]
  },
  {
   "cell_type": "code",
   "execution_count": 12,
   "metadata": {},
   "outputs": [
    {
     "name": "stdout",
     "output_type": "stream",
     "text": [
      "Kg CO2 per km =  0.7452183995081625\n"
     ]
    }
   ],
   "source": [
    "# Assume that all public transportation in by buss (this excludes ferry / boat)\n",
    "total_distance_2020 = 32939337\n",
    "total_emission_2020 = 24547000\n",
    "Co2_per_km = total_emission_2020 / total_distance_2020\n",
    "print('Kg CO2 per km = ', Co2_per_km)"
   ]
  },
  {
   "cell_type": "markdown",
   "metadata": {},
   "source": [
    "#### Total distance for all employees"
   ]
  },
  {
   "cell_type": "code",
   "execution_count": 10,
   "metadata": {},
   "outputs": [
    {
     "data": {
      "text/html": [
       "<div>\n",
       "<style scoped>\n",
       "    .dataframe tbody tr th:only-of-type {\n",
       "        vertical-align: middle;\n",
       "    }\n",
       "\n",
       "    .dataframe tbody tr th {\n",
       "        vertical-align: top;\n",
       "    }\n",
       "\n",
       "    .dataframe thead th {\n",
       "        text-align: right;\n",
       "    }\n",
       "</style>\n",
       "<table border=\"1\" class=\"dataframe\">\n",
       "  <thead>\n",
       "    <tr style=\"text-align: right;\">\n",
       "      <th></th>\n",
       "      <th>Time unit</th>\n",
       "      <th>Distanse kjørt (km)</th>\n",
       "      <th>Antall dager</th>\n",
       "    </tr>\n",
       "  </thead>\n",
       "  <tbody>\n",
       "    <tr>\n",
       "      <th>0</th>\n",
       "      <td>Day</td>\n",
       "      <td>1249.71</td>\n",
       "      <td>1</td>\n",
       "    </tr>\n",
       "    <tr>\n",
       "      <th>1</th>\n",
       "      <td>Week</td>\n",
       "      <td>6248.55</td>\n",
       "      <td>5</td>\n",
       "    </tr>\n",
       "    <tr>\n",
       "      <th>2</th>\n",
       "      <td>Year</td>\n",
       "      <td>287433.30</td>\n",
       "      <td>230</td>\n",
       "    </tr>\n",
       "  </tbody>\n",
       "</table>\n",
       "</div>"
      ],
      "text/plain": [
       "  Time unit  Distanse kjørt (km)  Antall dager\n",
       "0       Day              1249.71             1\n",
       "1      Week              6248.55             5\n",
       "2      Year            287433.30           230"
      ]
     },
     "execution_count": 10,
     "metadata": {},
     "output_type": "execute_result"
    }
   ],
   "source": [
    "total_travel_day = survey.Number[1]*distance_mean\n",
    "total_travel_week = survey.Number[1]*distance_mean*5\n",
    "total_travel_year = survey.Number[1]*distance_mean*230\n",
    "travel = {'Time unit':['Day','Week','Year'], 'Distanse kjørt (km)':[total_travel_day,total_travel_week,total_travel_year]}\n",
    "travel = pd.DataFrame(travel)\n",
    "travel['Antall dager']  = 1,5,230\n",
    "travel "
   ]
  },
  {
   "cell_type": "markdown",
   "metadata": {},
   "source": [
    "### Wagon size  og capacity utilization"
   ]
  },
  {
   "cell_type": "code",
   "execution_count": 13,
   "metadata": {},
   "outputs": [
    {
     "data": {
      "text/html": [
       "<div>\n",
       "<style scoped>\n",
       "    .dataframe tbody tr th:only-of-type {\n",
       "        vertical-align: middle;\n",
       "    }\n",
       "\n",
       "    .dataframe tbody tr th {\n",
       "        vertical-align: top;\n",
       "    }\n",
       "\n",
       "    .dataframe thead th {\n",
       "        text-align: right;\n",
       "    }\n",
       "</style>\n",
       "<table border=\"1\" class=\"dataframe\">\n",
       "  <thead>\n",
       "    <tr style=\"text-align: right;\">\n",
       "      <th></th>\n",
       "      <th>Wagon size</th>\n",
       "      <th>Capcity utilization</th>\n",
       "    </tr>\n",
       "  </thead>\n",
       "  <tbody>\n",
       "    <tr>\n",
       "      <th>1</th>\n",
       "      <td>47.0</td>\n",
       "      <td>53.0</td>\n",
       "    </tr>\n",
       "  </tbody>\n",
       "</table>\n",
       "</div>"
      ],
      "text/plain": [
       "   Wagon size  Capcity utilization\n",
       "1        47.0                 53.0"
      ]
     },
     "execution_count": 13,
     "metadata": {},
     "output_type": "execute_result"
    }
   ],
   "source": [
    "url = 'https://www.ssb.no/statbank/sq/10037029'\n",
    "\n",
    "AtB_data = pd.read_excel(url, skiprows=2)\n",
    "AtB_data = AtB_data[:2]\n",
    "AtB_data = AtB_data.drop('Unnamed: 0', axis=1)\n",
    "AtB_data = AtB_data.drop(0)\n",
    "AtB_data.rename(columns={'Vognstørrelse (seter)': 'Wagon size',\n",
    "                         'Kapasitetsutnyttelse (prosent)':'Capcity utilization'}, inplace = True)\n",
    "AtB_data"
   ]
  },
  {
   "cell_type": "code",
   "execution_count": 15,
   "metadata": {},
   "outputs": [
    {
     "data": {
      "text/html": [
       "<div>\n",
       "<style scoped>\n",
       "    .dataframe tbody tr th:only-of-type {\n",
       "        vertical-align: middle;\n",
       "    }\n",
       "\n",
       "    .dataframe tbody tr th {\n",
       "        vertical-align: top;\n",
       "    }\n",
       "\n",
       "    .dataframe thead th {\n",
       "        text-align: right;\n",
       "    }\n",
       "</style>\n",
       "<table border=\"1\" class=\"dataframe\">\n",
       "  <thead>\n",
       "    <tr style=\"text-align: right;\">\n",
       "      <th></th>\n",
       "      <th>Wagon size</th>\n",
       "      <th>Capcity utilization</th>\n",
       "    </tr>\n",
       "  </thead>\n",
       "  <tbody>\n",
       "    <tr>\n",
       "      <th>1</th>\n",
       "      <td>47.0</td>\n",
       "      <td>100.0</td>\n",
       "    </tr>\n",
       "  </tbody>\n",
       "</table>\n",
       "</div>"
      ],
      "text/plain": [
       "   Wagon size  Capcity utilization\n",
       "1        47.0                100.0"
      ]
     },
     "execution_count": 15,
     "metadata": {},
     "output_type": "execute_result"
    }
   ],
   "source": [
    "# Assume 100% capcity utilization due to travel during rush hours\n",
    "AtB_data['Capcity utilization'][1] = 100\n",
    "AtB_data"
   ]
  },
  {
   "cell_type": "markdown",
   "metadata": {},
   "source": [
    "#### Number of traveler per bus"
   ]
  },
  {
   "cell_type": "code",
   "execution_count": 16,
   "metadata": {},
   "outputs": [
    {
     "data": {
      "text/plain": [
       "47.0"
      ]
     },
     "execution_count": 16,
     "metadata": {},
     "output_type": "execute_result"
    }
   ],
   "source": [
    "no_travelers_bus = AtB_data['Wagon size'][1]\n",
    "no_travelers_bus"
   ]
  },
  {
   "cell_type": "markdown",
   "metadata": {},
   "source": [
    "### Empission per traveller"
   ]
  },
  {
   "cell_type": "code",
   "execution_count": 18,
   "metadata": {},
   "outputs": [
    {
     "name": "stdout",
     "output_type": "stream",
     "text": [
      "Co2 emission per km per traveller = 0.015855710627833246\n"
     ]
    }
   ],
   "source": [
    "Co2_per_km_per_traveller = Co2_per_km / no_travellers_bus\n",
    "print('Co2 emission per km per traveler =', Co2_per_km_per_traveler)"
   ]
  },
  {
   "cell_type": "markdown",
   "metadata": {},
   "source": [
    "#### Total emission during one week (kg Co2)"
   ]
  },
  {
   "cell_type": "code",
   "execution_count": 12,
   "metadata": {},
   "outputs": [
    {
     "data": {
      "text/plain": [
       "99.0752"
      ]
     },
     "execution_count": 12,
     "metadata": {},
     "output_type": "execute_result"
    }
   ],
   "source": [
    "emissionUtslipp_buss_uke_kg = Total_reise_uke * Co2_per_km_per_reisende\n",
    "Utslipp_buss_uke_kg.round(decimals=4)"
   ]
  },
  {
   "cell_type": "markdown",
   "metadata": {},
   "source": [
    "#### Total utslipp i løpet av et år (tonn Co2)\n"
   ]
  },
  {
   "cell_type": "code",
   "execution_count": 13,
   "metadata": {
    "scrolled": true
   },
   "outputs": [
    {
     "name": "stdout",
     "output_type": "stream",
     "text": [
      "Utslipp fra buss i året = 4.56 tCO2e\n"
     ]
    }
   ],
   "source": [
    "# Antar 230 arbeidsdager / 46 arbeidsuker i året \n",
    "Utslipp_buss_år = Utslipp_buss_uke_kg * 46\n",
    "Utslipp_buss_år_tonn = Utslipp_buss_år/1000\n",
    "Utslipp_buss_år_tonn = Utslipp_buss_år_tonn.round(decimals=2)\n",
    "print('Utslipp fra buss i året =', Utslipp_buss_år_tonn, 'tCO2e')"
   ]
  },
  {
   "cell_type": "markdown",
   "metadata": {},
   "source": [
    "## Emission from driving (non-electric wehicles)"
   ]
  },
  {
   "cell_type": "code",
   "execution_count": 14,
   "metadata": {},
   "outputs": [],
   "source": [
    "kilde = 'https://www.framtiden.no/gronne-tips/reise-og-transport/klimagassutslippet-fra-ulike-reisemater.html'\n",
    "kilde2 ='https://www.ssb.no/natur-og-miljo/artikler-og-publikasjoner/hva-pavirker-utslipp-til-luft-fra-veitrafikk?tabell=318157'\n",
    "kilde3 = 'https://www.ssb.no/statbank/list/bilreg/'"
   ]
  },
  {
   "cell_type": "code",
   "execution_count": 15,
   "metadata": {},
   "outputs": [
    {
     "data": {
      "text/html": [
       "<div>\n",
       "<style scoped>\n",
       "    .dataframe tbody tr th:only-of-type {\n",
       "        vertical-align: middle;\n",
       "    }\n",
       "\n",
       "    .dataframe tbody tr th {\n",
       "        vertical-align: top;\n",
       "    }\n",
       "\n",
       "    .dataframe thead th {\n",
       "        text-align: right;\n",
       "    }\n",
       "</style>\n",
       "<table border=\"1\" class=\"dataframe\">\n",
       "  <thead>\n",
       "    <tr style=\"text-align: right;\">\n",
       "      <th></th>\n",
       "      <th>Type bil</th>\n",
       "      <th>Personbiler</th>\n",
       "    </tr>\n",
       "  </thead>\n",
       "  <tbody>\n",
       "    <tr>\n",
       "      <th>0</th>\n",
       "      <td>NaN</td>\n",
       "      <td>2019.0</td>\n",
       "    </tr>\n",
       "    <tr>\n",
       "      <th>1</th>\n",
       "      <td>Bensin</td>\n",
       "      <td>29686.0</td>\n",
       "    </tr>\n",
       "    <tr>\n",
       "      <th>2</th>\n",
       "      <td>Diesel</td>\n",
       "      <td>36077.0</td>\n",
       "    </tr>\n",
       "  </tbody>\n",
       "</table>\n",
       "</div>"
      ],
      "text/plain": [
       "  Type bil  Personbiler\n",
       "0      NaN       2019.0\n",
       "1   Bensin      29686.0\n",
       "2   Diesel      36077.0"
      ]
     },
     "execution_count": 15,
     "metadata": {},
     "output_type": "execute_result"
    }
   ],
   "source": [
    "url = 'https://www.ssb.no/statbank/sq/10037343'\n",
    "cars = pd.read_excel(url,skiprows=2)\n",
    "cars.rename(columns={'Unnamed: 2':'Type bil'},inplace=True)\n",
    "cars = cars[['Type bil', 'Personbiler']]\n",
    "cars = cars[:3]\n",
    "cars"
   ]
  },
  {
   "cell_type": "code",
   "execution_count": 16,
   "metadata": {},
   "outputs": [],
   "source": [
    "Antall_bensin = cars.Personbiler[1]\n",
    "Antall_diesel = cars.Personbiler[2]\n",
    "Antall_totalt = cars.Personbiler[1] + cars.Personbiler[2]"
   ]
  },
  {
   "cell_type": "code",
   "execution_count": 17,
   "metadata": {},
   "outputs": [],
   "source": [
    "Utslipp_per_kilometer = (0.156*Antall_bensin + 0.130*Antall_diesel)/ Antall_totalt"
   ]
  },
  {
   "cell_type": "markdown",
   "metadata": {},
   "source": [
    "#### Average travel length and number of travellers"
   ]
  },
  {
   "cell_type": "code",
   "execution_count": 18,
   "metadata": {},
   "outputs": [
    {
     "data": {
      "text/plain": [
       "6.0"
      ]
     },
     "execution_count": 18,
     "metadata": {},
     "output_type": "execute_result"
    }
   ],
   "source": [
    "# Avg. travel length \n",
    "Distanse_Gjennomsnitt = 15.69\n",
    "Antall_reisende = spørreundersøkelse.Antall[4]\n",
    "Antall_reisende #no of travellers by car"
   ]
  },
  {
   "cell_type": "markdown",
   "metadata": {},
   "source": [
    "#### Emission from driving "
   ]
  },
  {
   "cell_type": "code",
   "execution_count": 19,
   "metadata": {},
   "outputs": [
    {
     "name": "stdout",
     "output_type": "stream",
     "text": [
      "Utslipp fra bilkjøring i året = 3.07 tCO2\n"
     ]
    }
   ],
   "source": [
    "Utslipp_bil_år = Distanse_Gjennomsnitt*Utslipp_per_kilometer*Antall_reisende*230\n",
    "Utslipp_bil_år_tonn = (Utslipp_bil_år/1000).round(decimals=2)\n",
    "print('Utslipp fra bilkjøring i året =', Utslipp_bil_år_tonn, 'tCO2')"
   ]
  },
  {
   "cell_type": "markdown",
   "metadata": {},
   "source": [
    "## Emission from electric wehicles (EL)"
   ]
  },
  {
   "cell_type": "markdown",
   "metadata": {},
   "source": [
    "### Electricy consumption and emission per kilometer "
   ]
  },
  {
   "cell_type": "code",
   "execution_count": 20,
   "metadata": {},
   "outputs": [],
   "source": [
    "# Source: https://www.fjordkraft.no/strom/stromforbruk/elbil/\n",
    "kWh_EV = 0.2\n",
    "# Source: https://www.nve.no/energibruk-effektivisering-og-teknologier/energibruk/hvor-kommer-strommen-fra/?ref=mainmenu\n",
    "emissions_kWh = 0.017"
   ]
  },
  {
   "cell_type": "code",
   "execution_count": 21,
   "metadata": {},
   "outputs": [],
   "source": [
    "# Same travel distance as for other car travels\n",
    "Distanse_Gjennomsnitt = 15.69"
   ]
  },
  {
   "cell_type": "code",
   "execution_count": 22,
   "metadata": {},
   "outputs": [
    {
     "name": "stdout",
     "output_type": "stream",
     "text": [
      "8.0\n"
     ]
    }
   ],
   "source": [
    "Antall_reisende_EL = spørreundersøkelse.Antall[3]\n",
    "print(Antall_reisende_EL)"
   ]
  },
  {
   "cell_type": "code",
   "execution_count": 23,
   "metadata": {},
   "outputs": [
    {
     "name": "stdout",
     "output_type": "stream",
     "text": [
      "Utslipp fra EL bilkjøring i året = 0.1 tCO2\n"
     ]
    }
   ],
   "source": [
    "Utslipp_ELbil_år = Distanse_Gjennomsnitt*emissions_kWh*kWh_EV*Antall_reisende_EL*230\n",
    "Utslipp_ELbil_år_tonn = (Utslipp_ELbil_år/1000).round(decimals=2)\n",
    "print('Utslipp fra EL bilkjøring i året =', Utslipp_ELbil_år_tonn, 'tCO2')"
   ]
  },
  {
   "cell_type": "markdown",
   "metadata": {},
   "source": [
    "# Total"
   ]
  },
  {
   "cell_type": "code",
   "execution_count": 24,
   "metadata": {},
   "outputs": [],
   "source": [
    "df_verdict_commute = pd.DataFrame(index = [\"Bil\", \"Buss\",'EL-bil'], columns=[\"Distanse [pkm]\", \"Utslipp, CO2 [tonn]\"], dtype=int)\n",
    "df_verdict_commute[\"Distanse [pkm]\"] = [int(Distanse_Gjennomsnitt*Antall_reisende*230), int(Total_reise_år),int(Distanse_Gjennomsnitt*Antall_reisende_EL*230)]\n",
    "df_verdict_commute[\"Utslipp, CO2 [tonn]\"] = [round(Utslipp_bil_år_tonn, 2), round(Utslipp_buss_år_tonn, 2),round(Utslipp_ELbil_år_tonn,2)]"
   ]
  },
  {
   "cell_type": "code",
   "execution_count": 25,
   "metadata": {},
   "outputs": [
    {
     "name": "stdout",
     "output_type": "stream",
     "text": [
      "Employee commuting\n",
      "df_verdict_commute:\n"
     ]
    },
    {
     "data": {
      "text/html": [
       "<div>\n",
       "<style scoped>\n",
       "    .dataframe tbody tr th:only-of-type {\n",
       "        vertical-align: middle;\n",
       "    }\n",
       "\n",
       "    .dataframe tbody tr th {\n",
       "        vertical-align: top;\n",
       "    }\n",
       "\n",
       "    .dataframe thead th {\n",
       "        text-align: right;\n",
       "    }\n",
       "</style>\n",
       "<table border=\"1\" class=\"dataframe\">\n",
       "  <thead>\n",
       "    <tr style=\"text-align: right;\">\n",
       "      <th></th>\n",
       "      <th>Distanse [pkm]</th>\n",
       "      <th>Utslipp, CO2 [tonn]</th>\n",
       "    </tr>\n",
       "  </thead>\n",
       "  <tbody>\n",
       "    <tr>\n",
       "      <th>Bil</th>\n",
       "      <td>21652</td>\n",
       "      <td>3.07</td>\n",
       "    </tr>\n",
       "    <tr>\n",
       "      <th>Buss</th>\n",
       "      <td>287433</td>\n",
       "      <td>4.56</td>\n",
       "    </tr>\n",
       "    <tr>\n",
       "      <th>EL-bil</th>\n",
       "      <td>28869</td>\n",
       "      <td>0.10</td>\n",
       "    </tr>\n",
       "  </tbody>\n",
       "</table>\n",
       "</div>"
      ],
      "text/plain": [
       "        Distanse [pkm]  Utslipp, CO2 [tonn]\n",
       "Bil              21652                 3.07\n",
       "Buss            287433                 4.56\n",
       "EL-bil           28869                 0.10"
      ]
     },
     "metadata": {},
     "output_type": "display_data"
    }
   ],
   "source": [
    "print(\"Employee commuting\")\n",
    "print(\"df_verdict_commute:\")\n",
    "display(df_verdict_commute)"
   ]
  },
  {
   "cell_type": "code",
   "execution_count": null,
   "metadata": {},
   "outputs": [],
   "source": []
  }
 ],
 "metadata": {
  "kernelspec": {
   "display_name": "Python 3",
   "language": "python",
   "name": "python3"
  },
  "language_info": {
   "codemirror_mode": {
    "name": "ipython",
    "version": 3
   },
   "file_extension": ".py",
   "mimetype": "text/x-python",
   "name": "python",
   "nbconvert_exporter": "python",
   "pygments_lexer": "ipython3",
   "version": "3.7.4"
  }
 },
 "nbformat": 4,
 "nbformat_minor": 4
}
