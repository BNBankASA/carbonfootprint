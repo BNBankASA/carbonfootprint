{
 "cells": [
  {
   "cell_type": "markdown",
   "metadata": {},
   "source": [
    "# Computations of emissions from retail customers\n",
    "* Includes only emissins related to mortgage loans and not deposits"
   ]
  },
  {
   "cell_type": "code",
   "execution_count": null,
   "metadata": {},
   "outputs": [],
   "source": [
    "import pandas as pd\n",
    "import numpy as np"
   ]
  },
  {
   "cell_type": "code",
   "execution_count": null,
   "metadata": {},
   "outputs": [],
   "source": [
    "# Global variables\n",
    "ABS_FILE_PATH = \"...\""
   ]
  },
  {
   "cell_type": "markdown",
   "metadata": {},
   "source": [
    "## An energy grading system to categorize the energy consumption of all buildnings\n",
    "Assuming energy grade _G_ takes the same values as grade _F_\n",
    "\n",
    "_Arealkorreksjon_ is an additional number that is used in computing net energy usage for småhus and leiligheter. Let _grade_building_ be the kWh used per square meter. Then, the formula is:\n",
    "* net_energy_usage = area_sqmt * (grade_building + Arealkorreksjon / area_sqmt)"
   ]
  },
  {
   "cell_type": "code",
   "execution_count": null,
   "metadata": {},
   "outputs": [],
   "source": [
    "url_energyGrades = \"https://www.energimerking.no/download?objectPath=/upload_images%2FFC1EA4B47E3141AFAD2CFD75C7829E6F.xlsx\"\n",
    "\n",
    "df_energyGrade = pd.read_excel(url_energyGrades, skiprows=4, skipfooter=43)\n",
    "df_energyGrade = df_energyGrade.drop(0).rename(columns={'Unnamed: 0': \"Type\"}).set_index(\"Type\", drop=True)\n",
    "\n",
    "# not at all correct but works for now\n",
    "df_energyGrade[\"G\"] = df_energyGrade[\"F\"]\n",
    "\n",
    "# Somehow the second 'Arealkorreksjon' is noted '   Arealkorreksjon' in the DataFrame\n",
    "df_energyGrade.loc[\"Arealkorreksjon\"] = df_energyGrade.loc[\"Arealkorreksjon\"].str.extract('(\\d+)', expand=False).astype(int)\n",
    "df_energyGrade.loc['   Arealkorreksjon'] = df_energyGrade.loc['   Arealkorreksjon'].str.extract('(\\d+)', expand=False).astype(int)\n",
    "df_energyGrade"
   ]
  },
  {
   "cell_type": "code",
   "execution_count": null,
   "metadata": {},
   "outputs": [],
   "source": [
    "df_energyGrade_smallhouse = pd.read_excel(url_energyGrades, sheet_name=\"E-skala v7.24 Smaahus\",skiprows=4, skipfooter=3, usecols=[\"Unnamed: 0\", \"A\",\"B\",\"C\",\"D\",\"E\",\"F\",\"G\"])\n",
    "df_energyGrade_smallhouse = df_energyGrade_smallhouse.rename(columns={\"Unnamed: 0\":\"Størrelse\"}).set_index(\"Størrelse\", drop=True).drop(\"Oppvarmet\\nBRA (m2)\")\n",
    "df_energyGrade_smallhouse"
   ]
  },
  {
   "cell_type": "code",
   "execution_count": null,
   "metadata": {},
   "outputs": [],
   "source": [
    "df_energyGrade_apartment = pd.read_excel(url_energyGrades, sheet_name=\"E-skala v7.24 Leilighet\",skiprows=4, skipfooter=3, usecols=[\"Unnamed: 0\", \"A\",\"B\",\"C\",\"D\",\"E\",\"F\",\"G\"])\n",
    "df_energyGrade_apartment = df_energyGrade_apartment.rename(columns={\"Unnamed: 0\":\"Størrelse\"}).set_index(\"Størrelse\", drop=True).drop(\"Oppvarmet\\nBRA (m2)\")\n",
    "df_energyGrade_apartment"
   ]
  },
  {
   "cell_type": "markdown",
   "metadata": {},
   "source": [
    "## Group BNB portfolio into energy grades"
   ]
  },
  {
   "cell_type": "code",
   "execution_count": null,
   "metadata": {},
   "outputs": [],
   "source": [
    "# internal file \n",
    "file = ABS_FILE_PATH + '....xlsx'\n",
    "\n",
    "df_eiendomsverdi = pd.read_excel(file)\n",
    "\n",
    "lst_BNB_dist_energygrades = [df_eiendomsverdi[df_eiendomsverdi['Energikarakter'] == grade]['Energikarakter'].count() for grade in ['A', 'B', 'C', 'D', 'E', 'F', 'G']]\n",
    "num_total = sum(lst_BNB_dist_energygrades)\n",
    "\n",
    "# Compute median LTV per energy grade. Does not seem to be any specific correlation between energy grade and LTV.\n",
    "lst_energygrade_ltv = [df_eiendomsverdi[df_eiendomsverdi[\"Energikarakter\"] == grade][\"LTV_INTERN\"].median() for grade in ['A', 'B', 'C', 'D', 'E', 'F', 'G']] \n",
    "\n",
    "df_BNB_pm_energygrades = pd.DataFrame(index=df_energyGrade.columns)\n",
    "df_BNB_pm_energygrades[\"Share[%]\"] = lst_BNB_dist_energygrades / num_total * 100\n",
    "df_BNB_pm_energygrades[\"LTV\"] = lst_energygrade_ltv\n",
    "\n",
    "df_BNB_pm_energygrades"
   ]
  },
  {
   "cell_type": "code",
   "execution_count": null,
   "metadata": {},
   "outputs": [],
   "source": [
    "file = ABS_FILE_PATH + '....xlsx'\n",
    "df_pm_portfolio = pd.read_excel(file)\n",
    "\n",
    "df_pm_portfolio = df_pm_portfolio[['NIVAA1_KUNDE','BOLIG_KVM','ASSET_DESC']].rename(columns={'NIVAA1_KUNDE':'Type','BOLIG_KVM':'Størrelse','ASSET_DESC':'Kategori'})\n",
    "df_pm_portfolio = df_pm_portfolio[df_pm_portfolio['Type']=='PM']\n",
    "\n",
    "df_pm_portfolio"
   ]
  },
  {
   "cell_type": "code",
   "execution_count": null,
   "metadata": {},
   "outputs": [],
   "source": [
    "PM_total_units = df_pm_portfolio[\"Type\"].count()\n",
    "PM_total_units\n",
    "\n",
    "df_BNB_pm_energygrades['Num_units'] = [int(round(df_BNB_pm_energygrades[\"Share[%]\"].at[grade]/100 * PM_total_units)) for grade in ['A', 'B', 'C', 'D', 'E', 'F', 'G']]\n",
    "df_BNB_pm_energygrades"
   ]
  },
  {
   "cell_type": "markdown",
   "metadata": {},
   "source": [
    "### Group portfolio into small houses and apartments"
   ]
  },
  {
   "cell_type": "code",
   "execution_count": null,
   "metadata": {},
   "outputs": [],
   "source": [
    "small_houses = ['Enebolig', 'Rekkehus', 'Boligeiendom', 'Fritidseiendom', 'Hytte/fritidseiendom', 'Småbruk',\n",
    "              'Enebolig i kjede', 'Bolig og forr.bygg', 'Forretningsbygg', 'Næringseiendom','Gårdsbruk',  \n",
    "               'Næringseiendom (leiekontrakt)', 'Næringseiendom m/boligdel', 'Landbrukseiendom m/bolig']\n",
    "\n",
    "apartments = ['Selveierleilighet', 'Leilighet', 'Andel i borettslag', 'Delt bolig', \n",
    "              'Tomt', 'Terrasseleilighet', 'Ubebygget tomt', 'Borettslag']\n",
    "\n",
    "total_small_house = df_pm_portfolio[df_pm_portfolio[\"Kategori\"].isin(small_houses)][\"Type\"].count()\n",
    "total_apartments = df_pm_portfolio[df_pm_portfolio[\"Kategori\"].isin(apartments)][\"Type\"].count()\n"
   ]
  },
  {
   "cell_type": "markdown",
   "metadata": {},
   "source": [
    "### Distributing houses and apartments on energy grades"
   ]
  },
  {
   "cell_type": "code",
   "execution_count": null,
   "metadata": {},
   "outputs": [],
   "source": [
    "df_BNB_pm_energygrades['Small_house'] = [int(round(df_BNB_pm_energygrades[\"Share[%]\"][grade]/100 * total_small_house)) for grade in ['A', 'B', 'C', 'D', 'E', 'F', 'G']]\n",
    "df_BNB_pm_energygrades['Apartment'] = [int(round(df_BNB_pm_energygrades[\"Share[%]\"][grade]/100 * total_apartments)) for grade in ['A', 'B', 'C', 'D', 'E', 'F', 'G']]\n",
    "\n",
    "df_BNB_pm_energygrades"
   ]
  },
  {
   "cell_type": "markdown",
   "metadata": {},
   "source": [
    "#### Finding median sizes for small houses and apartments"
   ]
  },
  {
   "cell_type": "code",
   "execution_count": null,
   "metadata": {},
   "outputs": [],
   "source": [
    "s_apartment_size = df_pm_portfolio[df_pm_portfolio[\"Kategori\"].isin(apartments)][\"Størrelse\"]\n",
    "s_apartment_size = pd.to_numeric(s_apartment_size, errors='coerce')\n",
    "median_apartments = s_apartment_size.median()\n",
    "\n",
    "s_small_houses_size = df_pm_portfolio[df_pm_portfolio[\"Kategori\"].isin(small_houses)][\"Størrelse\"]\n",
    "s_small_houses_size = pd.to_numeric(s_small_houses_size, errors='coerce')\n",
    "median_small_houses = s_small_houses_size.median()\n",
    "\n",
    "(median_apartments, median_small_houses)"
   ]
  },
  {
   "cell_type": "markdown",
   "metadata": {},
   "source": [
    "### Computing net energy usage\n",
    "Multiplying by the LTV gives yields the part of the building that is part of our portfolio."
   ]
  },
  {
   "cell_type": "code",
   "execution_count": null,
   "metadata": {},
   "outputs": [],
   "source": [
    "df_BNB_pm_energygrades['Small_house_GWh'] = [df_BNB_pm_energygrades.loc[grade, \"Small_house\"] * (df_energyGrade.loc[\"Småhus\", grade] + df_energyGrade.loc[\"Arealkorreksjon\", grade] / median_small_houses) * median_small_houses  / 1000000 for grade in ['A', 'B', 'C', 'D', 'E', 'F', 'G']]\n",
    "df_BNB_pm_energygrades['Apartment_GWh'] = [df_BNB_pm_energygrades.loc[grade, \"Apartment\"] * (df_energyGrade.loc[\"Leiligheter (boligblokk)\", grade] + df_energyGrade.loc[\"   Arealkorreksjon\", grade] / median_apartments) * median_apartments / 1000000  for grade in ['A', 'B', 'C', 'D', 'E', 'F', 'G']]\n",
    "\n",
    "# Gets rid of scientifc notation, ie. 3.14e+42\n",
    "df_BNB_pm_energygrades['Small_house_GWh'] = round(df_BNB_pm_energygrades['Small_house_GWh'] * df_BNB_pm_energygrades['LTV'], 2)\n",
    "df_BNB_pm_energygrades['Apartment_GWh'] = round(df_BNB_pm_energygrades['Apartment_GWh'] * df_BNB_pm_energygrades['LTV'], 2)\n",
    "\n",
    "df_BNB_pm_energygrades.at[\"Total\"] = df_BNB_pm_energygrades.sum()\n",
    "#Summing LTV values makes no sense\n",
    "df_BNB_pm_energygrades.loc[\"Total\", \"LTV\"] = 0"
   ]
  },
  {
   "cell_type": "code",
   "execution_count": null,
   "metadata": {},
   "outputs": [],
   "source": [
    "print(\"Net energy consumption for the private market\")\n",
    "print(\"df_BNB_pm_energygrades: \")\n",
    "display(df_BNB_pm_energygrades)"
   ]
  }
 ],
 "metadata": {
  "kernelspec": {
   "display_name": "Python 3",
   "language": "python",
   "name": "python3"
  },
  "language_info": {
   "codemirror_mode": {
    "name": "ipython",
    "version": 3
   },
   "file_extension": ".py",
   "mimetype": "text/x-python",
   "name": "python",
   "nbconvert_exporter": "python",
   "pygments_lexer": "ipython3",
   "version": "3.7.4"
  }
 },
 "nbformat": 4,
 "nbformat_minor": 4
}
