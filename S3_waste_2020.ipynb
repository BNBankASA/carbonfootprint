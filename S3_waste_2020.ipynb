{
 "cells": [
  {
   "cell_type": "markdown",
   "metadata": {},
   "source": [
    "## Amount of waste produced by treatment\n",
    "\n",
    "The data on the amount of waste and its treatment can be found in invoices from the local waste handling company."
   ]
  },
  {
   "cell_type": "code",
   "execution_count": 2,
   "metadata": {},
   "outputs": [],
   "source": [
    "import pandas as pd"
   ]
  },
  {
   "cell_type": "code",
   "execution_count": 27,
   "metadata": {},
   "outputs": [],
   "source": [
    "# Enter amount of waste [kg] from different locations the lists. Eg. recycled paper waste in Trondheim = 710 kg\n",
    "# If the amount is unknown, leave the spot in the list empty.\n",
    "\n",
    "paper_recycled = 870\n",
    "paper_safty_return = 612\n",
    "ee_waste = 80\n",
    "\n",
    "# waste registered at bulding level - BN Bank pays for 36.79 percent of the total costs (this will increase in 2021)\n",
    "factor = 0.3679\n",
    "waste_mixed_incinerated = 9240  # avfall til forbrenning\n",
    "metals = 90\n",
    "glas = 1400\n",
    "plastic_wrap = 125\n",
    "food = 310\n",
    "wood = 590\n",
    "paper_cardboard = 2840\n",
    "hazardious_waste = 125\n"
   ]
  },
  {
   "cell_type": "code",
   "execution_count": 33,
   "metadata": {},
   "outputs": [],
   "source": [
    "# Emission factors\n",
    "emission_factor_waste = 0.504032  #kg co2-ekv, source: Sparebank 1 SMN - yearly report 2019\n"
   ]
  },
  {
   "cell_type": "code",
   "execution_count": 38,
   "metadata": {},
   "outputs": [],
   "source": [
    "emission_waste =  emission_factor_waste*waste_mixed_incinerated*factor \n",
    "emission_waste_tonne = round(emission_waste/1000, 2)\n",
    "\n"
   ]
  },
  {
   "cell_type": "code",
   "execution_count": 41,
   "metadata": {},
   "outputs": [],
   "source": [
    "df_verdict_waste = pd.DataFrame(index = [\"Kontorpapir til gjenvinning\", \"Papir til makulering, til gjenvinning\",'EE-avfall, gjenvinnes', 'Restavfall til forbrenning', \n",
    "                                         'Metaller, til gjenvinning', 'Glass, til gjennvinning', \n",
    "                                         'Plastikk folie til gjenvinning', 'Matavfall til gjenvinning', 'Trevirke til gjenvinning', 'Papp og papir til gjenvinning',\n",
    "                                         'Farlig avfall til gjenvinning'], columns=[\"Avfall [kg]\", \"Utslipp, CO2 [tonn]\"], dtype=int)\n",
    "df_verdict_waste[\"Avfall [kg]\"] = [int(paper_recycled), int(paper_safty_return),int(ee_waste), int(waste_mixed_incinerated)*factor , int(metals)*factor, int(glas)*factor, \n",
    "                                  int(plastic_wrap)*factor, int(food)*factor, int(wood)*factor, int(paper_cardboard)*factor, int(hazardious_waste)*factor]\n",
    "df_verdict_waste[\"Utslipp, CO2 [tonn]\"] = [np.nan, np.nan, np.nan, emission_waste_tonne, np.nan, np.nan, np.nan, np.nan, np.nan, np.nan, np.nan ]\n"
   ]
  },
  {
   "cell_type": "code",
   "execution_count": 42,
   "metadata": {},
   "outputs": [
    {
     "name": "stdout",
     "output_type": "stream",
     "text": [
      "Waste, Trondheim\n",
      "df_verdict_waste:\n"
     ]
    },
    {
     "data": {
      "text/html": [
       "<div>\n",
       "<style scoped>\n",
       "    .dataframe tbody tr th:only-of-type {\n",
       "        vertical-align: middle;\n",
       "    }\n",
       "\n",
       "    .dataframe tbody tr th {\n",
       "        vertical-align: top;\n",
       "    }\n",
       "\n",
       "    .dataframe thead th {\n",
       "        text-align: right;\n",
       "    }\n",
       "</style>\n",
       "<table border=\"1\" class=\"dataframe\">\n",
       "  <thead>\n",
       "    <tr style=\"text-align: right;\">\n",
       "      <th></th>\n",
       "      <th>Avfall [kg]</th>\n",
       "      <th>Utslipp, CO2 [tonn]</th>\n",
       "    </tr>\n",
       "  </thead>\n",
       "  <tbody>\n",
       "    <tr>\n",
       "      <th>Kontorpapir til gjenvinning</th>\n",
       "      <td>870.0000</td>\n",
       "      <td>NaN</td>\n",
       "    </tr>\n",
       "    <tr>\n",
       "      <th>Papir til makulering, til gjenvinning</th>\n",
       "      <td>612.0000</td>\n",
       "      <td>NaN</td>\n",
       "    </tr>\n",
       "    <tr>\n",
       "      <th>EE-avfall, gjenvinnes</th>\n",
       "      <td>80.0000</td>\n",
       "      <td>NaN</td>\n",
       "    </tr>\n",
       "    <tr>\n",
       "      <th>Restavfall til forbrenning</th>\n",
       "      <td>3399.3960</td>\n",
       "      <td>1.71</td>\n",
       "    </tr>\n",
       "    <tr>\n",
       "      <th>Metaller, til gjenvinning</th>\n",
       "      <td>33.1110</td>\n",
       "      <td>NaN</td>\n",
       "    </tr>\n",
       "    <tr>\n",
       "      <th>Glass, til gjennvinning</th>\n",
       "      <td>515.0600</td>\n",
       "      <td>NaN</td>\n",
       "    </tr>\n",
       "    <tr>\n",
       "      <th>Plastikk folie til gjenvinning</th>\n",
       "      <td>45.9875</td>\n",
       "      <td>NaN</td>\n",
       "    </tr>\n",
       "    <tr>\n",
       "      <th>Matavfall til gjenvinning</th>\n",
       "      <td>114.0490</td>\n",
       "      <td>NaN</td>\n",
       "    </tr>\n",
       "    <tr>\n",
       "      <th>Trevirke til gjenvinning</th>\n",
       "      <td>217.0610</td>\n",
       "      <td>NaN</td>\n",
       "    </tr>\n",
       "    <tr>\n",
       "      <th>Papp og papir til gjenvinning</th>\n",
       "      <td>1044.8360</td>\n",
       "      <td>NaN</td>\n",
       "    </tr>\n",
       "    <tr>\n",
       "      <th>Farlig avfall til gjenvinning</th>\n",
       "      <td>45.9875</td>\n",
       "      <td>NaN</td>\n",
       "    </tr>\n",
       "  </tbody>\n",
       "</table>\n",
       "</div>"
      ],
      "text/plain": [
       "                                       Avfall [kg]  Utslipp, CO2 [tonn]\n",
       "Kontorpapir til gjenvinning               870.0000                  NaN\n",
       "Papir til makulering, til gjenvinning     612.0000                  NaN\n",
       "EE-avfall, gjenvinnes                      80.0000                  NaN\n",
       "Restavfall til forbrenning               3399.3960                 1.71\n",
       "Metaller, til gjenvinning                  33.1110                  NaN\n",
       "Glass, til gjennvinning                   515.0600                  NaN\n",
       "Plastikk folie til gjenvinning             45.9875                  NaN\n",
       "Matavfall til gjenvinning                 114.0490                  NaN\n",
       "Trevirke til gjenvinning                  217.0610                  NaN\n",
       "Papp og papir til gjenvinning            1044.8360                  NaN\n",
       "Farlig avfall til gjenvinning              45.9875                  NaN"
      ]
     },
     "metadata": {},
     "output_type": "display_data"
    }
   ],
   "source": [
    "print(\"Waste, Trondheim\")\n",
    "print(\"df_verdict_waste:\")\n",
    "display(df_verdict_waste)\n"
   ]
  },
  {
   "cell_type": "code",
   "execution_count": null,
   "metadata": {},
   "outputs": [],
   "source": []
  }
 ],
 "metadata": {
  "kernelspec": {
   "display_name": "Python 3",
   "language": "python",
   "name": "python3"
  },
  "language_info": {
   "codemirror_mode": {
    "name": "ipython",
    "version": 3
   },
   "file_extension": ".py",
   "mimetype": "text/x-python",
   "name": "python",
   "nbconvert_exporter": "python",
   "pygments_lexer": "ipython3",
   "version": "3.7.4"
  }
 },
 "nbformat": 4,
 "nbformat_minor": 4
}
