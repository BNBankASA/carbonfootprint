{
 "cells": [
  {
   "cell_type": "markdown",
   "metadata": {},
   "source": [
    "# Scope 2 calculations"
   ]
  },
  {
   "cell_type": "code",
   "execution_count": 2,
   "metadata": {},
   "outputs": [],
   "source": [
    "import pandas as pd\n",
    "import numpy as np"
   ]
  },
  {
   "cell_type": "markdown",
   "metadata": {},
   "source": [
    "## Electricity consumption\n",
    "Manually enter the electricity and distict heating in kwh for each of the different locations (offices, factories, appartments, server park etc)"
   ]
  },
  {
   "cell_type": "code",
   "execution_count": 3,
   "metadata": {},
   "outputs": [],
   "source": [
    "# input data: \n",
    "# offices Tordenskiolds gate, Oslo\n",
    "consumption_office_oslo = 104717\n",
    "# apartment Fronger, Oslo\n",
    "consumption_apt_oslo = 2349.0\n",
    "# Server park Søndre gate Trondheim\n",
    "consumption_srvr_park = 155179\n",
    "# apartment Alicante, Spain\n",
    "consumption_apt_spain = 538\n",
    "\n",
    "# offices Kongens gate 2 gate, Trondheim\n",
    "consumption_office_trd = 571244"
   ]
  },
  {
   "cell_type": "markdown",
   "metadata": {},
   "source": [
    "## Location based method \n",
    "The location-based method for calculating GHG emissions emphasizes the emissions resulting from local electricity production. The method is based on statistical emissions information and averaged emissions within a defined geographic boundary. For most purposes, the geographic boundary is defined as the \"Nordic Mix\", covering Norway,Sweden,Finland and Denmark. \n",
    "\n",
    "__Emission factor, Nordic mix:__ 39g CO2e / kWh - Source: NVE\n",
    "\n",
    "__Emission factor, Spain:__ 270g CO2e / kWh - Source: Local electricity distributor "
   ]
  },
  {
   "cell_type": "code",
   "execution_count": 7,
   "metadata": {},
   "outputs": [
    {
     "data": {
      "text/html": [
       "<div>\n",
       "<style scoped>\n",
       "    .dataframe tbody tr th:only-of-type {\n",
       "        vertical-align: middle;\n",
       "    }\n",
       "\n",
       "    .dataframe tbody tr th {\n",
       "        vertical-align: top;\n",
       "    }\n",
       "\n",
       "    .dataframe thead th {\n",
       "        text-align: right;\n",
       "    }\n",
       "</style>\n",
       "<table border=\"1\" class=\"dataframe\">\n",
       "  <thead>\n",
       "    <tr style=\"text-align: right;\">\n",
       "      <th></th>\n",
       "      <th>Consumption [kWh]</th>\n",
       "      <th>Emission_rate [kg CO2e / kWh]</th>\n",
       "      <th>Calculated emission [kg CO2e]</th>\n",
       "    </tr>\n",
       "  </thead>\n",
       "  <tbody>\n",
       "    <tr>\n",
       "      <th>Office: Oslo</th>\n",
       "      <td>104717.0</td>\n",
       "      <td>0.039</td>\n",
       "      <td>4083.963</td>\n",
       "    </tr>\n",
       "    <tr>\n",
       "      <th>Office: Trondheim</th>\n",
       "      <td>571244.0</td>\n",
       "      <td>0.039</td>\n",
       "      <td>22278.516</td>\n",
       "    </tr>\n",
       "    <tr>\n",
       "      <th>Apartment: Spain</th>\n",
       "      <td>538.0</td>\n",
       "      <td>0.27</td>\n",
       "      <td>145.260</td>\n",
       "    </tr>\n",
       "    <tr>\n",
       "      <th>Apartment: Oslo</th>\n",
       "      <td>2349.0</td>\n",
       "      <td>0.039</td>\n",
       "      <td>91.611</td>\n",
       "    </tr>\n",
       "    <tr>\n",
       "      <th>Server park</th>\n",
       "      <td>155179.0</td>\n",
       "      <td>0.039</td>\n",
       "      <td>6051.981</td>\n",
       "    </tr>\n",
       "    <tr>\n",
       "      <th>Total</th>\n",
       "      <td>834027.0</td>\n",
       "      <td></td>\n",
       "      <td>32651.331</td>\n",
       "    </tr>\n",
       "  </tbody>\n",
       "</table>\n",
       "</div>"
      ],
      "text/plain": [
       "                   Consumption [kWh] Emission_rate [kg CO2e / kWh]  \\\n",
       "Office: Oslo                104717.0                         0.039   \n",
       "Office: Trondheim           571244.0                         0.039   \n",
       "Apartment: Spain               538.0                          0.27   \n",
       "Apartment: Oslo               2349.0                         0.039   \n",
       "Server park                 155179.0                         0.039   \n",
       "Total                       834027.0                                 \n",
       "\n",
       "                   Calculated emission [kg CO2e]  \n",
       "Office: Oslo                            4083.963  \n",
       "Office: Trondheim                      22278.516  \n",
       "Apartment: Spain                         145.260  \n",
       "Apartment: Oslo                           91.611  \n",
       "Server park                             6051.981  \n",
       "Total                                  32651.331  "
      ]
     },
     "execution_count": 7,
     "metadata": {},
     "output_type": "execute_result"
    }
   ],
   "source": [
    "df_electricity = pd.DataFrame(index=[\"Office: Oslo\", \"Office: Trondheim\", \"Apartment: Spain\", \"Apartment: Oslo\",\"Server park\"])\n",
    "df_electricity['Consumption [kWh]'] = [consumption_office_oslo,\n",
    "                                 consumption_office_trd,\n",
    "                                 consumption_apt_spain,\n",
    "                                 consumption_apt_oslo,\n",
    "                                 consumption_srvr_park]\n",
    "# hard code emission rate:\n",
    "df_electricity['Emission_rate [kg CO2e / kWh]'] = [0.039, 0.039, 0.270, 0.039, 0.039]\n",
    "df_electricity['Calculated emission [kg CO2e]'] = df_electricity['Consumption [kWh]'] * df_electricity['Emission_rate [kg CO2e / kWh]']\n",
    "\n",
    "df_electricity.loc['Total'] = df_electricity.sum()\n",
    "df_electricity['Emission_rate [kg CO2e / kWh]']['Total'] = ''\n",
    "\n",
    "df_electricity"
   ]
  },
  {
   "cell_type": "code",
   "execution_count": 8,
   "metadata": {},
   "outputs": [
    {
     "name": "stdout",
     "output_type": "stream",
     "text": [
      "Total CO2 emission by location-based method = 32651 kg CO2e\n"
     ]
    }
   ],
   "source": [
    "print('Total CO2 emission by location-based method = {:2.0f} kg CO2e'.format(df_electricity['Calculated emission [kg CO2e]']['Total']))"
   ]
  },
  {
   "cell_type": "markdown",
   "metadata": {},
   "source": [
    "## Market-based method\n",
    "The market-based method reflects emissions from electricity that companies have purposefully chosen (or their lack of choice). Under the market-based method of scope 2 accounting, BN Bank will report the GHG emission factor associated with the qualifying contractual instrument it owns. This method for calculating the GHG emissions does not necessarily represent the emission caused by BN Bank's consumption of electricty at the premises in Oslo or Trondheim. However, by taking into account the purchases of Guarantees of Origin, this method will reflect the collective consumer demand for particular energy types. \n",
    "\n",
    "The electricity in Oslo is origin-guaranteed, and hence the emission factor is zero.\n",
    "For non-guaranteed electricity origin, the emission factor for Norway using the marked based approach is _[0.396 kg CO2e /kWh](https://www.nve.no/energiforsyning/opprinnelsesgarantier/varedeklarasjon-for-stromleverandorer/?ref=mainmenu)_"
   ]
  },
  {
   "cell_type": "code",
   "execution_count": 9,
   "metadata": {},
   "outputs": [
    {
     "data": {
      "text/html": [
       "<div>\n",
       "<style scoped>\n",
       "    .dataframe tbody tr th:only-of-type {\n",
       "        vertical-align: middle;\n",
       "    }\n",
       "\n",
       "    .dataframe tbody tr th {\n",
       "        vertical-align: top;\n",
       "    }\n",
       "\n",
       "    .dataframe thead th {\n",
       "        text-align: right;\n",
       "    }\n",
       "</style>\n",
       "<table border=\"1\" class=\"dataframe\">\n",
       "  <thead>\n",
       "    <tr style=\"text-align: right;\">\n",
       "      <th></th>\n",
       "      <th>Consumption [kWh]</th>\n",
       "      <th>Emission rate [kg CO2e / kWh]</th>\n",
       "      <th>Calculated emission [kg CO2e]</th>\n",
       "    </tr>\n",
       "  </thead>\n",
       "  <tbody>\n",
       "    <tr>\n",
       "      <th>Office: Oslo</th>\n",
       "      <td>104717.0</td>\n",
       "      <td>0</td>\n",
       "      <td>0.000</td>\n",
       "    </tr>\n",
       "    <tr>\n",
       "      <th>Office: Trondheim</th>\n",
       "      <td>571244.0</td>\n",
       "      <td>0.396</td>\n",
       "      <td>226212.624</td>\n",
       "    </tr>\n",
       "    <tr>\n",
       "      <th>Apartment: Spain</th>\n",
       "      <td>538.0</td>\n",
       "      <td>0.27</td>\n",
       "      <td>145.260</td>\n",
       "    </tr>\n",
       "    <tr>\n",
       "      <th>Apartment: Oslo</th>\n",
       "      <td>2349.0</td>\n",
       "      <td>0</td>\n",
       "      <td>0.000</td>\n",
       "    </tr>\n",
       "    <tr>\n",
       "      <th>Server park</th>\n",
       "      <td>155179.0</td>\n",
       "      <td>0.396</td>\n",
       "      <td>61450.884</td>\n",
       "    </tr>\n",
       "    <tr>\n",
       "      <th>Total</th>\n",
       "      <td>1668054.0</td>\n",
       "      <td></td>\n",
       "      <td>618083.460</td>\n",
       "    </tr>\n",
       "  </tbody>\n",
       "</table>\n",
       "</div>"
      ],
      "text/plain": [
       "                   Consumption [kWh] Emission rate [kg CO2e / kWh]  \\\n",
       "Office: Oslo                104717.0                             0   \n",
       "Office: Trondheim           571244.0                         0.396   \n",
       "Apartment: Spain               538.0                          0.27   \n",
       "Apartment: Oslo               2349.0                             0   \n",
       "Server park                 155179.0                         0.396   \n",
       "Total                      1668054.0                                 \n",
       "\n",
       "                   Calculated emission [kg CO2e]  \n",
       "Office: Oslo                               0.000  \n",
       "Office: Trondheim                     226212.624  \n",
       "Apartment: Spain                         145.260  \n",
       "Apartment: Oslo                            0.000  \n",
       "Server park                            61450.884  \n",
       "Total                                 618083.460  "
      ]
     },
     "execution_count": 9,
     "metadata": {},
     "output_type": "execute_result"
    }
   ],
   "source": [
    "df_marketbased_electricity = df_electricity[['Consumption [kWh]']][:6]\n",
    "df_marketbased_electricity['Emission rate [kg CO2e / kWh]'] = [0, 0.396, 0.27, 0, 0.396, 0.396]\n",
    "df_marketbased_electricity['Calculated emission [kg CO2e]'] = df_marketbased_electricity['Consumption [kWh]'] * df_marketbased_electricity['Emission rate [kg CO2e / kWh]']\n",
    "\n",
    "df_marketbased_electricity.loc['Total'] = df_marketbased_electricity.sum()\n",
    "df_marketbased_electricity['Emission rate [kg CO2e / kWh]']['Total'] = ''\n",
    "\n",
    "df_marketbased_electricity"
   ]
  },
  {
   "cell_type": "code",
   "execution_count": 10,
   "metadata": {},
   "outputs": [
    {
     "name": "stdout",
     "output_type": "stream",
     "text": [
      "Total CO2 emission by the market-based method = 618083 kg CO2e\n"
     ]
    }
   ],
   "source": [
    "print('Total CO2 emission by the market-based method = {:2.0f} kg CO2e'.format(df_marketbased_electricity['Calculated emission [kg CO2e]']['Total']))"
   ]
  },
  {
   "cell_type": "markdown",
   "metadata": {},
   "source": [
    "## District heating\n",
    "Adding the district heating data into its own DataFrame.\n",
    "Emissions in CO2-equivalents from the Tiller district heating plant. Januay 2021: [51,8 g/kWh](https://www.statkraftvarme.no/om-statkraftvarme/vare-anlegg/norge/trondheim/)"
   ]
  },
  {
   "cell_type": "code",
   "execution_count": 11,
   "metadata": {},
   "outputs": [],
   "source": [
    "# input consumption of district heating\n",
    "\n",
    "# offices Kongens gate 2 gate, Trondheim, district heating\n",
    "consumption_distHeat_trd = 83928.0"
   ]
  },
  {
   "cell_type": "code",
   "execution_count": 12,
   "metadata": {},
   "outputs": [
    {
     "data": {
      "text/html": [
       "<div>\n",
       "<style scoped>\n",
       "    .dataframe tbody tr th:only-of-type {\n",
       "        vertical-align: middle;\n",
       "    }\n",
       "\n",
       "    .dataframe tbody tr th {\n",
       "        vertical-align: top;\n",
       "    }\n",
       "\n",
       "    .dataframe thead th {\n",
       "        text-align: right;\n",
       "    }\n",
       "</style>\n",
       "<table border=\"1\" class=\"dataframe\">\n",
       "  <thead>\n",
       "    <tr style=\"text-align: right;\">\n",
       "      <th></th>\n",
       "      <th>Consumption [kWh]</th>\n",
       "      <th>Emission_rate [kg CO2e / kWh]</th>\n",
       "      <th>Calculated emission [kg CO2e]</th>\n",
       "    </tr>\n",
       "  </thead>\n",
       "  <tbody>\n",
       "    <tr>\n",
       "      <th>Office: Trondheim</th>\n",
       "      <td>83928</td>\n",
       "      <td>0.0518</td>\n",
       "      <td>4347.47</td>\n",
       "    </tr>\n",
       "  </tbody>\n",
       "</table>\n",
       "</div>"
      ],
      "text/plain": [
       "                  Consumption [kWh] Emission_rate [kg CO2e / kWh]  \\\n",
       "Office: Trondheim             83928                        0.0518   \n",
       "\n",
       "                  Calculated emission [kg CO2e]  \n",
       "Office: Trondheim                       4347.47  "
      ]
     },
     "execution_count": 12,
     "metadata": {},
     "output_type": "execute_result"
    }
   ],
   "source": [
    "emission_dist_heat= 51.8/1000\n",
    "\n",
    "df_distHeat = pd.DataFrame(index=[\"Office: Trondheim\"], columns=['Consumption [kWh]', 'Emission_rate [kg CO2e / kWh]', 'Calculated emission [kg CO2e]'])\n",
    "df_distHeat.loc['Office: Trondheim'] = [consumption_distHeat_trd, emission_dist_heat, consumption_distHeat_trd * emission_dist_heat]\n",
    "\n",
    "df_distHeat"
   ]
  },
  {
   "cell_type": "code",
   "execution_count": null,
   "metadata": {},
   "outputs": [],
   "source": []
  }
 ],
 "metadata": {
  "kernelspec": {
   "display_name": "Python 3",
   "language": "python",
   "name": "python3"
  },
  "language_info": {
   "codemirror_mode": {
    "name": "ipython",
    "version": 3
   },
   "file_extension": ".py",
   "mimetype": "text/x-python",
   "name": "python",
   "nbconvert_exporter": "python",
   "pygments_lexer": "ipython3",
   "version": "3.7.4"
  }
 },
 "nbformat": 4,
 "nbformat_minor": 4
}
